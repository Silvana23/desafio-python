{
  "nbformat": 4,
  "nbformat_minor": 0,
  "metadata": {
    "colab": {
      "name": "Untitled0.ipynb",
      "provenance": [],
      "authorship_tag": "ABX9TyOqDdosToTajln0FKMXZtge",
      "include_colab_link": true
    },
    "kernelspec": {
      "name": "python3",
      "display_name": "Python 3"
    },
    "language_info": {
      "name": "python"
    }
  },
  "cells": [
    {
      "cell_type": "markdown",
      "metadata": {
        "id": "view-in-github",
        "colab_type": "text"
      },
      "source": [
        "<a href=\"https://colab.research.google.com/github/Silvana23/desafio-python/blob/master/Untitled0.ipynb\" target=\"_parent\"><img src=\"https://colab.research.google.com/assets/colab-badge.svg\" alt=\"Open In Colab\"/></a>"
      ]
    },
    {
      "cell_type": "code",
      "execution_count": 1,
      "metadata": {
        "colab": {
          "base_uri": "https://localhost:8080/"
        },
        "id": "pAFpRLVBfIR6",
        "outputId": "067c61d9-9548-489c-8885-12b67ee9a2de"
      },
      "outputs": [
        {
          "output_type": "stream",
          "name": "stdout",
          "text": [
            "ola mundo\n"
          ]
        }
      ],
      "source": [
        "print('ola mundo')"
      ]
    },
    {
      "cell_type": "code",
      "source": [
        "nome = 'silvana'\n",
        "print(nome)"
      ],
      "metadata": {
        "colab": {
          "base_uri": "https://localhost:8080/"
        },
        "id": "NdAFM74XfgHT",
        "outputId": "5ce63759-fa09-460b-81f3-1d475c729791"
      },
      "execution_count": 2,
      "outputs": [
        {
          "output_type": "stream",
          "name": "stdout",
          "text": [
            "silvana\n"
          ]
        }
      ]
    },
    {
      "cell_type": "code",
      "source": [
        "idade = input('digite a sua idade')"
      ],
      "metadata": {
        "colab": {
          "base_uri": "https://localhost:8080/"
        },
        "id": "E35tFqHRj_bk",
        "outputId": "b4029a01-fd75-4b88-a549-09bad9372c70"
      },
      "execution_count": 3,
      "outputs": [
        {
          "name": "stdout",
          "output_type": "stream",
          "text": [
            "digite a sua idade26\n"
          ]
        }
      ]
    },
    {
      "cell_type": "code",
      "source": [
        "print(idade)"
      ],
      "metadata": {
        "colab": {
          "base_uri": "https://localhost:8080/"
        },
        "id": "pWjd2KfLkOtH",
        "outputId": "5d92089a-39f1-4dae-cf04-fbc735eab1c3"
      },
      "execution_count": 4,
      "outputs": [
        {
          "output_type": "stream",
          "name": "stdout",
          "text": [
            "26\n"
          ]
        }
      ]
    },
    {
      "cell_type": "code",
      "source": [
        "metros = float(input('digite o valor em metros : '))\n",
        "centimetros = metros *100\n",
        "print (centimetros , 'cm')"
      ],
      "metadata": {
        "colab": {
          "base_uri": "https://localhost:8080/"
        },
        "id": "PoWtaFdomaGv",
        "outputId": "31e6311a-d535-4ade-f4a8-ef03150990da"
      },
      "execution_count": 9,
      "outputs": [
        {
          "output_type": "stream",
          "name": "stdout",
          "text": [
            "digite o valor em metros : 100\n",
            "10000.0 cm\n"
          ]
        }
      ]
    }
  ]
}